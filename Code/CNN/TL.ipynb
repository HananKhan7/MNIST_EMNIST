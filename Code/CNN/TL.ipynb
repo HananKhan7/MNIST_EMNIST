{
 "cells": [
  {
   "cell_type": "code",
   "execution_count": 1,
   "metadata": {},
   "outputs": [],
   "source": [
    "import tensorflow as tf\n",
    "import numpy as np\n",
    "import os\n",
    "from tensorflow.keras import layers, models\n",
    "from tensorflow.keras.losses import SparseCategoricalCrossentropy\n",
    "from tensorflow.keras.metrics import SparseCategoricalAccuracy\n",
    "from emnist import extract_training_samples,extract_test_samples\n",
    "from tensorflow.keras.utils import to_categorical\n",
    "import matplotlib.pyplot as plt"
   ]
  },
  {
   "cell_type": "markdown",
   "metadata": {},
   "source": [
    "## Table of content\n",
    "\n",
    "- Load MNIST trained model (Base model)\n",
    "- Evaluate on MNIST\n",
    "- Clone base model (new model)\n",
    "- Upload EMNIST 36 data\n",
    "- Evaluate first without transfer learning\n",
    "- fine-tune new model on EMNSIT small data\n",
    "- Evaluate again \n",
    "- Compare performance with a model trained from scratch on the same EMNIST small data"
   ]
  },
  {
   "cell_type": "markdown",
   "metadata": {},
   "source": [
    "- **Load MNIST trained model**"
   ]
  },
  {
   "cell_type": "code",
   "execution_count": 2,
   "metadata": {},
   "outputs": [
    {
     "name": "stdout",
     "output_type": "stream",
     "text": [
      "Model: \"sequential_2\"\n",
      "_________________________________________________________________\n",
      " Layer (type)                Output Shape              Param #   \n",
      "=================================================================\n",
      " conv2d_2 (Conv2D)           (None, 26, 26, 32)        21952     \n",
      "                                                                 \n",
      " max_pooling2d_2 (MaxPooling  (None, 13, 13, 32)       0         \n",
      " 2D)                                                             \n",
      "                                                                 \n",
      " flatten_2 (Flatten)         (None, 5408)              0         \n",
      "                                                                 \n",
      " dense_2 (Dense)             (None, 10)                54090     \n",
      "                                                                 \n",
      "=================================================================\n",
      "Total params: 76,042\n",
      "Trainable params: 76,042\n",
      "Non-trainable params: 0\n",
      "_________________________________________________________________\n"
     ]
    }
   ],
   "source": [
    "#Reading the model from JSON file\n",
    "with open('saved_model/MNIST_trained.json', 'r') as json_file:\n",
    "    json_savedModel= json_file.read()\n",
    "#load the model architecture \n",
    "base_model = tf.keras.models.model_from_json(json_savedModel)\n",
    "base_model.summary()\n",
    "# Load weights\n",
    "base_model.load_weights('saved_model/MNIST_trained_weights.h5')"
   ]
  },
  {
   "cell_type": "markdown",
   "metadata": {},
   "source": [
    "- **Evaluate first on MNIST dataset**"
   ]
  },
  {
   "cell_type": "code",
   "execution_count": 57,
   "metadata": {},
   "outputs": [],
   "source": [
    "# Load and preprocess the MNIST dataset\n",
    "(MNIST_train, MNIST_train_labels), (MNIST_test, MNIST_test_labels) = mnist.load_data()\n",
    "# One-hot encode the labels\n",
    "MNIST_train_labels = to_categorical(MNIST_train_labels)\n",
    "MNIST_test_labels = to_categorical(MNIST_test_labels)"
   ]
  },
  {
   "cell_type": "code",
   "execution_count": 58,
   "metadata": {},
   "outputs": [],
   "source": [
    "# Compile the model\n",
    "base_model.compile(optimizer='adam', loss='categorical_crossentropy', metrics=['accuracy'])"
   ]
  },
  {
   "cell_type": "code",
   "execution_count": 59,
   "metadata": {},
   "outputs": [
    {
     "name": "stdout",
     "output_type": "stream",
     "text": [
      "MNIST accuracy: 97.14 %\n"
     ]
    }
   ],
   "source": [
    "# Evaluate the model on the test set\n",
    "mnist_loss, mnist_acc = base_model.evaluate(MNIST_test, MNIST_test_labels, verbose=0)\n",
    "print(f'MNIST accuracy: {round(mnist_acc*100,2)} %')"
   ]
  },
  {
   "cell_type": "markdown",
   "metadata": {},
   "source": [
    "- **Cloning Base model**"
   ]
  },
  {
   "cell_type": "code",
   "execution_count": 60,
   "metadata": {},
   "outputs": [
    {
     "name": "stdout",
     "output_type": "stream",
     "text": [
      "Model: \"sequential_2\"\n",
      "_________________________________________________________________\n",
      " Layer (type)                Output Shape              Param #   \n",
      "=================================================================\n",
      " conv2d_2 (Conv2D)           (None, 26, 26, 32)        21952     \n",
      "                                                                 \n",
      " max_pooling2d_2 (MaxPooling  (None, 13, 13, 32)       0         \n",
      " 2D)                                                             \n",
      "                                                                 \n",
      " flatten_2 (Flatten)         (None, 5408)              0         \n",
      "                                                                 \n",
      " emnist_output_layer (Dense)  (None, 36)               194724    \n",
      "                                                                 \n",
      "=================================================================\n",
      "Total params: 216,676\n",
      "Trainable params: 216,676\n",
      "Non-trainable params: 0\n",
      "_________________________________________________________________\n"
     ]
    }
   ],
   "source": [
    "# Clone the model (including architecture and weights)\n",
    "new_model = tf.keras.models.clone_model(base_model)\n",
    "new_model.set_weights(base_model.get_weights())\n",
    "new_model.pop()     # Removing output layer\n",
    "new_model.add(layers.Dense(36, activation = 'softmax', name = 'emnist_output_layer'))\n",
    "new_model.summary()"
   ]
  },
  {
   "cell_type": "markdown",
   "metadata": {},
   "source": [
    "- **Uploading formatted emnist 36 classes data**\n"
   ]
  },
  {
   "cell_type": "code",
   "execution_count": 61,
   "metadata": {},
   "outputs": [],
   "source": [
    "emnist_train = np.load('data/emnist36_train.npy')\n",
    "emnist_train_labels = np.load('data/emnist36_train_labels.npy')\n",
    "emnist_test = np.load('data/emnist36_test.npy')\n",
    "emnist_test_labels = np.load('data/emnist36_test_labels.npy')\n",
    "# One-hot encode the labels\n",
    "emnist_train_labels = to_categorical(emnist_train_labels)\n",
    "emnist_test_labels = to_categorical(emnist_test_labels)"
   ]
  },
  {
   "cell_type": "markdown",
   "metadata": {},
   "source": [
    "- **Evaluating model performance without transfer learning**"
   ]
  },
  {
   "cell_type": "code",
   "execution_count": 62,
   "metadata": {},
   "outputs": [
    {
     "name": "stdout",
     "output_type": "stream",
     "text": [
      "EMNIST accuracy: 3.03 %\n"
     ]
    }
   ],
   "source": [
    "# Compile the model\n",
    "# Compile the model\n",
    "new_model.compile(optimizer='adam', loss='categorical_crossentropy', metrics=['accuracy'])\n",
    "# Evaluate the model on the test set\n",
    "emnist_loss, emnist_acc = new_model.evaluate(emnist_test, emnist_test_labels, verbose=0)\n",
    "print(f'EMNIST accuracy: {round(emnist_acc*100,2)} %')"
   ]
  },
  {
   "cell_type": "markdown",
   "metadata": {},
   "source": [
    "- **Fine-tuning model with a batch of EMNIST 36 data**"
   ]
  },
  {
   "cell_type": "code",
   "execution_count": 63,
   "metadata": {},
   "outputs": [
    {
     "data": {
      "text/plain": [
       "'\\n~ Additional step: Reduce the batch size but make sure that all samples are included atleast ~N times\\n'"
      ]
     },
     "execution_count": 63,
     "metadata": {},
     "output_type": "execute_result"
    }
   ],
   "source": [
    "batch_size = 1000  # Amount of data to select\n",
    "# Set the seed for reproducibility\n",
    "np.random.seed(128)\n",
    "\n",
    "# Randomly shuffle the indices\n",
    "indices = np.random.permutation(len(emnist_train))\n",
    "\n",
    "selected_indices = indices[:batch_size]\n",
    "\n",
    "# Extract images and labels based on selected indices\n",
    "emnist_train_batch = emnist_train[selected_indices]\n",
    "emnist_train__labels_batch = emnist_train_labels[selected_indices]\n",
    "\n",
    "\"\"\"\n",
    "~ Additional step: Reduce the batch size but make sure that all samples are included atleast ~N times\n",
    "\"\"\""
   ]
  },
  {
   "cell_type": "code",
   "execution_count": 64,
   "metadata": {},
   "outputs": [
    {
     "name": "stdout",
     "output_type": "stream",
     "text": [
      "Epoch 1/5\n"
     ]
    },
    {
     "name": "stdout",
     "output_type": "stream",
     "text": [
      "25/25 [==============================] - 1s 20ms/step - loss: 2.7907 - accuracy: 0.3938 - val_loss: 1.4266 - val_accuracy: 0.5950\n",
      "Epoch 2/5\n",
      "25/25 [==============================] - 0s 19ms/step - loss: 0.5533 - accuracy: 0.8125 - val_loss: 1.4235 - val_accuracy: 0.6600\n",
      "Epoch 3/5\n",
      "25/25 [==============================] - 1s 20ms/step - loss: 0.2159 - accuracy: 0.9362 - val_loss: 1.5026 - val_accuracy: 0.6800\n",
      "Epoch 4/5\n",
      "25/25 [==============================] - 1s 21ms/step - loss: 0.1182 - accuracy: 0.9588 - val_loss: 1.6637 - val_accuracy: 0.6900\n",
      "Epoch 5/5\n",
      "25/25 [==============================] - 1s 20ms/step - loss: 0.1034 - accuracy: 0.9650 - val_loss: 1.6199 - val_accuracy: 0.6950\n"
     ]
    },
    {
     "data": {
      "text/plain": [
       "<keras.callbacks.History at 0x1faf5845a50>"
      ]
     },
     "execution_count": 64,
     "metadata": {},
     "output_type": "execute_result"
    }
   ],
   "source": [
    "optimizer = Adam(learning_rate=1e-4)\n",
    "new_model.fit(emnist_train_batch, emnist_train__labels_batch, batch_size=32,epochs=5, validation_split=0.2)"
   ]
  },
  {
   "cell_type": "code",
   "execution_count": 65,
   "metadata": {},
   "outputs": [
    {
     "name": "stdout",
     "output_type": "stream",
     "text": [
      "3052/3052 [==============================] - 18s 6ms/step - loss: 1.7570 - accuracy: 0.6533\n",
      "EMNIST accuracy: 65.33 %\n"
     ]
    }
   ],
   "source": [
    "# Evaluate the model on the test set\n",
    "emnist_loss, emnist_acc = new_model.evaluate(emnist_test, emnist_test_labels)\n",
    "print(f'EMNIST accuracy: {round(emnist_acc*100,2)} %')"
   ]
  },
  {
   "cell_type": "code",
   "execution_count": 66,
   "metadata": {},
   "outputs": [
    {
     "name": "stdout",
     "output_type": "stream",
     "text": [
      "3052/3052 [==============================] - 17s 6ms/step\n"
     ]
    }
   ],
   "source": [
    "test_label_predict = new_model.predict(emnist_test)\n",
    "test_label_predict = tf.argmax(test_label_predict, axis=1).numpy()"
   ]
  },
  {
   "cell_type": "markdown",
   "metadata": {},
   "source": [
    "- **Visualizing results, mapping labels for visualization clarity**"
   ]
  },
  {
   "cell_type": "code",
   "execution_count": 67,
   "metadata": {},
   "outputs": [],
   "source": [
    "\"\"\"\n",
    "Working on mapping\n",
    "\"\"\"\n",
    "# Assuming emnist_labels is the array of original labels\n",
    "# emnist_labels = np.array([0, 1, 2, ..., 45, 46])\n",
    "\n",
    "# Define a mapping for digits and alphabets\n",
    "digit_mapping = {i: str(i) for i in range(10)}\n",
    "alphabet_mapping = {i: chr(i + 55) for i in range(10,36)}  # ASCII code for 'A' is 65, so we use 55 to map to 11\n",
    "\n",
    "# Apply the mapping to the labels\n",
    "mapped_labels = np.array([digit_mapping[label] if label < 10 else alphabet_mapping[label] for label in test_label_predict])\n"
   ]
  },
  {
   "cell_type": "code",
   "execution_count": 69,
   "metadata": {},
   "outputs": [
    {
     "data": {
      "image/png": "[encoded data removed]",
      "text/plain": [
       "<Figure size 1000x1000 with 25 Axes>"
      ]
     },
     "metadata": {},
     "output_type": "display_data"
    }
   ],
   "source": [
    "# Display some random images from the training set\n",
    "plt.figure(figsize=(10, 10))\n",
    "for i in range(25):\n",
    "    plt.subplot(5, 5, i + 1)\n",
    "    plt.imshow(emnist_test[i], cmap='gray')\n",
    "    plt.title(f\"Label: {mapped_labels[i]}\") \n",
    "    plt.axis('off')\n",
    "    plt.suptitle('Model prediction with {} % Accuracy (EMNIST), with TL model'.format(round((emnist_acc*100),2)))\n",
    "plt.show()"
   ]
  }
 ],
 "metadata": {
  "kernelspec": {
   "display_name": "Python 3",
   "language": "python",
   "name": "python3"
  },
  "language_info": {
   "codemirror_mode": {
    "name": "ipython",
    "version": 3
   },
   "file_extension": ".py",
   "mimetype": "text/x-python",
   "name": "python",
   "nbconvert_exporter": "python",
   "pygments_lexer": "ipython3",
   "version": "3.11.3"
  }
 },
 "nbformat": 4,
 "nbformat_minor": 2
}
