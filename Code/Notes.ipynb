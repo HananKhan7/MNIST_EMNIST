{
 "cells": [
  {
   "cell_type": "markdown",
   "metadata": {},
   "source": [
    "## EMNIST Letters\n",
    "- For letters we require to change the output layer, which will be part of fine-tuning during TL.\n",
    "## Further suggestions\n",
    "- **Create a dataset of EMNIST consisting of both letters and digits with 37 labels (10 digits and 27 letters) and use that for further evaluation and transfer learning**\n",
    "\n",
    "- reduce the training data for MNIST and then impement TL by fine-tuning with additional training data from EMNIST letters and see if their is any difference"
   ]
  }
 ],
 "metadata": {
  "language_info": {
   "name": "python"
  }
 },
 "nbformat": 4,
 "nbformat_minor": 2
}
