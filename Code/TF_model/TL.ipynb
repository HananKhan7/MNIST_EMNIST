{
 "cells": [
  {
   "cell_type": "code",
   "execution_count": 69,
   "metadata": {},
   "outputs": [],
   "source": [
    "import tensorflow as tf\n",
    "import numpy as np\n",
    "from tensorflow.keras import layers, models\n",
    "from tensorflow.keras.datasets import mnist\n",
    "from tensorflow.keras.optimizers import Adam\n",
    "from emnist import extract_test_samples\n",
    "from tensorflow.keras.utils import to_categorical\n",
    "import matplotlib.pyplot as plt\n",
    "import os"
   ]
  },
  {
   "cell_type": "markdown",
   "metadata": {},
   "source": [
    "## Table of content\n",
    "\n",
    "- Load MNIST trained model (Base model)\n",
    "- Evaluate on MNIST\n",
    "- Clone base model (new model)\n",
    "- Upload EMNIST 36 data\n",
    "- Evaluate first without transfer learning\n",
    "- fine-tune new model on EMNSIT small data\n",
    "- Evaluate again \n",
    "- Compare performance with a model trained from scratch on the same EMNIST small data"
   ]
  },
  {
   "cell_type": "markdown",
   "metadata": {},
   "source": [
    "- **Load MNIST trained model**"
   ]
  },
  {
   "cell_type": "code",
   "execution_count": 70,
   "metadata": {},
   "outputs": [
    {
     "name": "stdout",
     "output_type": "stream",
     "text": [
      "\n",
      "\n",
      "*********************MNIST model*********************\n",
      "\n",
      "\n",
      "Model: \"sequential_4\"\n",
      "_________________________________________________________________\n",
      " Layer (type)                Output Shape              Param #   \n",
      "=================================================================\n",
      " flatten_4 (Flatten)         (None, 784)               0         \n",
      "                                                                 \n",
      " MNIST_dense_layer (Dense)   (None, 128)               100480    \n",
      "                                                                 \n",
      " dense_7 (Dense)             (None, 10)                1290      \n",
      "                                                                 \n",
      "=================================================================\n",
      "Total params: 101,770\n",
      "Trainable params: 101,770\n",
      "Non-trainable params: 0\n",
      "_________________________________________________________________\n",
      "\n",
      "\n",
      "*********************Updated TL model*********************\n",
      "\n",
      "\n",
      "Model: \"sequential_4\"\n",
      "_________________________________________________________________\n",
      " Layer (type)                Output Shape              Param #   \n",
      "=================================================================\n",
      " flatten_4 (Flatten)         (None, 784)               0         \n",
      "                                                                 \n",
      " MNIST_dense_layer (Dense)   (None, 128)               100480    \n",
      "                                                                 \n",
      " emnist_dense_layer (Dense)  (None, 50)                6450      \n",
      "                                                                 \n",
      " emnist_output_layer (Dense)  (None, 15)               765       \n",
      "                                                                 \n",
      "=================================================================\n",
      "Total params: 107,695\n",
      "Trainable params: 107,695\n",
      "Non-trainable params: 0\n",
      "_________________________________________________________________\n"
     ]
    }
   ],
   "source": [
    "#Reading the model from JSON file\n",
    "with open('saved_model/MNIST_trained.json', 'r') as json_file:\n",
    "    json_savedModel= json_file.read()\n",
    "#load the model architecture \n",
    "model = tf.keras.models.model_from_json(json_savedModel)\n",
    "print(\"\\n\\n*********************MNIST model*********************\\n\\n\")\n",
    "model.summary()\n",
    "# Load weights\n",
    "model.load_weights('saved_model/MNIST_trained_weights.h5')\n",
    "\n",
    "model.pop()     # Removing output layer\n",
    "# Add a new dense hidden layer with 10 neurons for EMNIST\n",
    "model.add(layers.Dense(50, activation='relu', name='emnist_dense_layer'))\n",
    "model.add(layers.Dense(15, activation = 'softmax', name = 'emnist_output_layer'))\n",
    "print(\"\\n\\n*********************Updated TL model*********************\\n\\n\")\n",
    "model.summary()\n",
    "# Freezing MNIST dense layer with trained weights\n",
    "for layer in model.layers:\n",
    "    if layer.name == 'MNIST_dense_layer':\n",
    "        layer.trainable = False\n",
    "\n",
    "# Compile the model\n",
    "model.compile(optimizer='adam', loss='categorical_crossentropy', metrics=['accuracy'])"
   ]
  },
  {
   "cell_type": "markdown",
   "metadata": {},
   "source": [
    "- **Evaluate first on MNIST dataset**"
   ]
  },
  {
   "cell_type": "code",
   "execution_count": 71,
   "metadata": {},
   "outputs": [],
   "source": [
    "# # Load and preprocess the MNIST dataset\n",
    "# (MNIST_train, MNIST_train_labels), (MNIST_test, MNIST_test_labels) = mnist.load_data()\n",
    "# # One-hot encode the labels\n",
    "# MNIST_train_labels = to_categorical(MNIST_train_labels)\n",
    "# MNIST_test_labels = to_categorical(MNIST_test_labels)"
   ]
  },
  {
   "cell_type": "code",
   "execution_count": 72,
   "metadata": {},
   "outputs": [],
   "source": [
    "# # Compile the model\n",
    "# base_model.compile(optimizer='adam', loss='categorical_crossentropy', metrics=['accuracy'])"
   ]
  },
  {
   "cell_type": "code",
   "execution_count": 73,
   "metadata": {},
   "outputs": [],
   "source": [
    "# # Evaluate the model on the test set\n",
    "# mnist_loss, mnist_acc = base_model.evaluate(MNIST_test, MNIST_test_labels, verbose=0)\n",
    "# print(f'MNIST accuracy: {round(mnist_acc*100,2)} %')"
   ]
  },
  {
   "cell_type": "markdown",
   "metadata": {},
   "source": [
    "- **Cloning Base model**"
   ]
  },
  {
   "cell_type": "code",
   "execution_count": 74,
   "metadata": {},
   "outputs": [],
   "source": [
    "# # Clone the model (including architecture and weights)\n",
    "# new_model = tf.keras.models.clone_model(base_model)\n",
    "# new_model.set_weights(base_model.get_weights())\n",
    "# new_model.pop()     # Removing output layer\n",
    "# new_model.add(layers.Dense(36, activation = 'softmax', name = 'emnist_output_layer'))\n",
    "# new_model.summary()"
   ]
  },
  {
   "cell_type": "markdown",
   "metadata": {},
   "source": [
    "- **Uploading formatted emnist 15 classes data**\n"
   ]
  },
  {
   "cell_type": "code",
   "execution_count": 75,
   "metadata": {},
   "outputs": [],
   "source": [
    "emnist_train = np.load('data/emnist15_train.npy')\n",
    "emnist_train_labels = np.load('data/emnist15_train_labels.npy')\n",
    "emnist_test = np.load('data/emnist15_test.npy')\n",
    "emnist_test_labels = np.load('data/emnist15_test_labels.npy')\n",
    "# One-hot encode the labels\n",
    "emnist_train_labels = to_categorical(emnist_train_labels)\n",
    "emnist_test_labels = to_categorical(emnist_test_labels)"
   ]
  },
  {
   "cell_type": "markdown",
   "metadata": {},
   "source": [
    "- **Evaluating model performance without transfer learning**"
   ]
  },
  {
   "cell_type": "code",
   "execution_count": 76,
   "metadata": {},
   "outputs": [],
   "source": [
    "# # Compile the model\n",
    "# new_model.compile(optimizer='adam', loss='categorical_crossentropy', metrics=['accuracy'])\n",
    "# # Evaluate the model on the test set\n",
    "# emnist_loss, emnist_acc = new_model.evaluate(emnist_test, emnist_test_labels, verbose=0)\n",
    "# print(f'EMNIST accuracy: {round(emnist_acc*100,2)} %')"
   ]
  },
  {
   "cell_type": "markdown",
   "metadata": {},
   "source": [
    "- **Train the model with a batch of EMNIST 15 data**"
   ]
  },
  {
   "cell_type": "code",
   "execution_count": 77,
   "metadata": {},
   "outputs": [
    {
     "data": {
      "text/plain": [
       "'\\n~ Additional step: Reduce the batch size but make sure that all samples are included atleast ~N times\\n'"
      ]
     },
     "execution_count": 77,
     "metadata": {},
     "output_type": "execute_result"
    }
   ],
   "source": [
    "batch_size = 5000  # Amount of data to select\n",
    "# Set the seed for reproducibility\n",
    "np.random.seed(128)\n",
    "\n",
    "# Randomly shuffle the indices\n",
    "indices = np.random.permutation(len(emnist_train))\n",
    "\n",
    "selected_indices = indices[:batch_size]\n",
    "\n",
    "# Extract images and labels based on selected indices\n",
    "emnist_train_batch = emnist_train[selected_indices]\n",
    "emnist_train__labels_batch = emnist_train_labels[selected_indices]\n",
    "\n",
    "\"\"\"\n",
    "~ Additional step: Reduce the batch size but make sure that all samples are included atleast ~N times\n",
    "\"\"\""
   ]
  },
  {
   "cell_type": "code",
   "execution_count": 78,
   "metadata": {},
   "outputs": [
    {
     "name": "stdout",
     "output_type": "stream",
     "text": [
      "Epoch 1/5\n"
     ]
    },
    {
     "name": "stdout",
     "output_type": "stream",
     "text": [
      "125/125 [==============================] - 1s 3ms/step - loss: 13.2487 - accuracy: 0.2795 - val_loss: 5.5705 - val_accuracy: 0.4070\n",
      "Epoch 2/5\n",
      "125/125 [==============================] - 0s 2ms/step - loss: 4.1604 - accuracy: 0.4642 - val_loss: 3.9345 - val_accuracy: 0.4740\n",
      "Epoch 3/5\n",
      "125/125 [==============================] - 0s 2ms/step - loss: 2.9477 - accuracy: 0.5115 - val_loss: 3.2414 - val_accuracy: 0.4800\n",
      "Epoch 4/5\n",
      "125/125 [==============================] - 0s 2ms/step - loss: 2.3231 - accuracy: 0.5397 - val_loss: 2.8854 - val_accuracy: 0.5080\n",
      "Epoch 5/5\n",
      "125/125 [==============================] - 0s 2ms/step - loss: 1.9985 - accuracy: 0.5617 - val_loss: 2.6830 - val_accuracy: 0.5280\n"
     ]
    },
    {
     "data": {
      "text/plain": [
       "<keras.callbacks.History at 0x1ede72be650>"
      ]
     },
     "execution_count": 78,
     "metadata": {},
     "output_type": "execute_result"
    }
   ],
   "source": [
    "# optimizer = Adam(learning_rate=1e-4)\n",
    "model.fit(emnist_train_batch, emnist_train__labels_batch, batch_size=32,epochs=5, validation_split=0.2)"
   ]
  },
  {
   "cell_type": "markdown",
   "metadata": {},
   "source": [
    "- **Fine-tune the entire model to improve model performance (Additional step)**"
   ]
  },
  {
   "cell_type": "code",
   "execution_count": 79,
   "metadata": {},
   "outputs": [
    {
     "name": "stdout",
     "output_type": "stream",
     "text": [
      "Epoch 1/10\n"
     ]
    },
    {
     "name": "stdout",
     "output_type": "stream",
     "text": [
      "125/125 [==============================] - 1s 4ms/step - loss: 1.6551 - accuracy: 0.6003 - val_loss: 2.3109 - val_accuracy: 0.5440\n",
      "Epoch 2/10\n",
      "125/125 [==============================] - 0s 3ms/step - loss: 1.4267 - accuracy: 0.6283 - val_loss: 2.1833 - val_accuracy: 0.5780\n",
      "Epoch 3/10\n",
      "125/125 [==============================] - 0s 3ms/step - loss: 1.2940 - accuracy: 0.6507 - val_loss: 2.0977 - val_accuracy: 0.5700\n",
      "Epoch 4/10\n",
      "125/125 [==============================] - 0s 3ms/step - loss: 1.1876 - accuracy: 0.6693 - val_loss: 2.0282 - val_accuracy: 0.5730\n",
      "Epoch 5/10\n",
      "125/125 [==============================] - 0s 3ms/step - loss: 1.1168 - accuracy: 0.6862 - val_loss: 1.9924 - val_accuracy: 0.5770\n",
      "Epoch 6/10\n",
      "125/125 [==============================] - 0s 3ms/step - loss: 1.0449 - accuracy: 0.6988 - val_loss: 1.9678 - val_accuracy: 0.5850\n",
      "Epoch 7/10\n",
      "125/125 [==============================] - 0s 3ms/step - loss: 0.9838 - accuracy: 0.7013 - val_loss: 1.9415 - val_accuracy: 0.5960\n",
      "Epoch 8/10\n",
      "125/125 [==============================] - 0s 3ms/step - loss: 0.9369 - accuracy: 0.7220 - val_loss: 1.9185 - val_accuracy: 0.6030\n",
      "Epoch 9/10\n",
      "125/125 [==============================] - 0s 3ms/step - loss: 0.8926 - accuracy: 0.7310 - val_loss: 1.8936 - val_accuracy: 0.6220\n",
      "Epoch 10/10\n",
      "125/125 [==============================] - 0s 3ms/step - loss: 0.8428 - accuracy: 0.7437 - val_loss: 1.8677 - val_accuracy: 0.6180\n"
     ]
    },
    {
     "data": {
      "text/plain": [
       "<keras.callbacks.History at 0x1ede73b8e50>"
      ]
     },
     "execution_count": 79,
     "metadata": {},
     "output_type": "execute_result"
    }
   ],
   "source": [
    "# Unfreezing MNIST dense layer with trained weights\n",
    "for layer in model.layers:\n",
    "    if layer.name == 'MNIST_dense_layer':\n",
    "        layer.trainable = True\n",
    "\n",
    "# Compile the model\n",
    "optimizer = Adam(learning_rate=1e-4) # low learning rate\n",
    "model.compile(optimizer=optimizer, loss='categorical_crossentropy', metrics=['accuracy'])\n",
    "\n",
    "model.fit(emnist_train_batch, emnist_train__labels_batch, batch_size=32,epochs=10, validation_split=0.2)"
   ]
  },
  {
   "cell_type": "code",
   "execution_count": 80,
   "metadata": {},
   "outputs": [
    {
     "name": "stdout",
     "output_type": "stream",
     "text": [
      "  1/188 [..............................] - ETA: 5s - loss: 2.1273 - accuracy: 0.6562"
     ]
    },
    {
     "name": "stdout",
     "output_type": "stream",
     "text": [
      "188/188 [==============================] - 0s 1ms/step - loss: 1.8461 - accuracy: 0.6407\n",
      "EMNIST accuracy: 64.07 %\n"
     ]
    }
   ],
   "source": [
    "# Evaluate the model on the test set\n",
    "emnist_loss, emnist_acc = model.evaluate(emnist_test, emnist_test_labels)\n",
    "print(f'EMNIST accuracy: {round(emnist_acc*100,2)} %')"
   ]
  },
  {
   "cell_type": "code",
   "execution_count": 81,
   "metadata": {},
   "outputs": [
    {
     "name": "stdout",
     "output_type": "stream",
     "text": [
      " 41/188 [=====>........................] - ETA: 0s "
     ]
    },
    {
     "name": "stdout",
     "output_type": "stream",
     "text": [
      "188/188 [==============================] - 0s 1ms/step\n"
     ]
    }
   ],
   "source": [
    "test_label_predict = model.predict(emnist_test)\n",
    "test_label_predict = tf.argmax(test_label_predict, axis=1).numpy()"
   ]
  },
  {
   "cell_type": "markdown",
   "metadata": {},
   "source": [
    "- **Visualizing results, mapping labels for visualization clarity**"
   ]
  },
  {
   "cell_type": "code",
   "execution_count": 82,
   "metadata": {},
   "outputs": [],
   "source": [
    "\"\"\"\n",
    "Working on mapping\n",
    "\"\"\"\n",
    "# Assuming emnist_labels is the array of original labels\n",
    "# emnist_labels = np.array([0, 1, 2, ..., 45, 46])\n",
    "\n",
    "# Define a mapping for digits and alphabets\n",
    "digit_mapping = {i: str(i) for i in range(10)}\n",
    "alphabet_mapping = {i: chr(i + 55) for i in range(10,36)}  # ASCII code for 'A' is 65, so we use 55 to map to 11\n",
    "\n",
    "# Apply the mapping to the labels\n",
    "mapped_labels = np.array([digit_mapping[label] if label < 10 else alphabet_mapping[label] for label in test_label_predict])\n"
   ]
  },
  {
   "cell_type": "code",
   "execution_count": 83,
   "metadata": {},
   "outputs": [
    {
     "data": {
      "image/png": "[encoded data removed]",
      "text/plain": [
       "<Figure size 1000x1000 with 25 Axes>"
      ]
     },
     "metadata": {},
     "output_type": "display_data"
    }
   ],
   "source": [
    "# Display some random images from the training set\n",
    "plt.figure(figsize=(10, 10))\n",
    "for i in range(25):\n",
    "    plt.subplot(5, 5, i + 1)\n",
    "    plt.imshow(emnist_test[i], cmap='gray')\n",
    "    plt.title(f\"Label: {mapped_labels[i]}\") \n",
    "    plt.axis('off')\n",
    "    plt.suptitle('Model prediction with {} % Accuracy (EMNIST), with TL model'.format(round((emnist_acc*100),2)))\n",
    "plt.show()"
   ]
  }
 ],
 "metadata": {
  "kernelspec": {
   "display_name": "Python 3",
   "language": "python",
   "name": "python3"
  },
  "language_info": {
   "codemirror_mode": {
    "name": "ipython",
    "version": 3
   },
   "file_extension": ".py",
   "mimetype": "text/x-python",
   "name": "python",
   "nbconvert_exporter": "python",
   "pygments_lexer": "ipython3",
   "version": "3.11.3"
  }
 },
 "nbformat": 4,
 "nbformat_minor": 2
}
